{
 "cells": [
  {
   "cell_type": "markdown",
   "id": "8b45287c-2edc-4e38-a497-03c9fb41b8e7",
   "metadata": {},
   "source": [
    "## 问题1.1 的一个完成样例（python）"
   ]
  },
  {
   "cell_type": "code",
   "execution_count": 19,
   "id": "5816dedd-0fd2-42b8-860a-d8b56a03a1f9",
   "metadata": {},
   "outputs": [
    {
     "name": "stdout",
     "output_type": "stream",
     "text": [
      "16.0055\n"
     ]
    }
   ],
   "source": [
    "import random # 提供生成随机数的包\n",
    "\n",
    "\n",
    "N=100000 # 仿真从开始走到跌倒的次数\n",
    "step_counts=[] # 记录每次跌倒时走的步数\n",
    "\n",
    "for i in range(N):\n",
    "    position=4 # 起始位置\n",
    "    step=0 # 步数\n",
    "    while  (position<8 and position>0 ):\n",
    "          x = random.uniform(0,1) # 生成一个用于判断醉汉左走还是右走的随机变量\n",
    "          if (x>0.5):\n",
    "              position=position+1 # 右走 位置加1\n",
    "              step=step+1\n",
    "          else:\n",
    "              position=position-1  # 左走 位置减1\n",
    "              step=step+1\n",
    "\n",
    "    step_counts.append(step)\n",
    "step_average=sum(step_counts)/len(step_counts)\n",
    "print(step_average)\n"
   ]
  },
  {
   "cell_type": "markdown",
   "id": "fb6d9351-26ac-4937-8fce-35ab5ae35ef6",
   "metadata": {},
   "source": [
    "问题1 其他内容。封装成自定义函数。\n",
    "\n",
    "确定函数名称、参数以及返回值。\n",
    "\n"
   ]
  },
  {
   "cell_type": "code",
   "execution_count": 16,
   "id": "00232193-0d01-4c4f-8c1f-634ff445343f",
   "metadata": {},
   "outputs": [
    {
     "name": "stdout",
     "output_type": "stream",
     "text": [
      "[6, 0, 0, 0, 0, 0, 0, 0, 0, 0]\n",
      "0.6\n"
     ]
    }
   ],
   "source": [
    "def cal_avg_step(N, position):\n",
    "    import random # 提供生成随机数的包\n",
    "    step_counts=[] # 记录每次跌倒时走的步数\n",
    "\n",
    "    for i in range(N):\n",
    "        step=0\n",
    "        while  (position<8 and position>0 ):\n",
    "              x = random.uniform(0,1) # 生成一个用于判断醉汉左走还是右走的随机变量\n",
    "              if (x>0.5):\n",
    "                  position=position+1 # 右走 位置加1\n",
    "                  step=step+1\n",
    "              else:\n",
    "                  position=position-1  # 左走 位置减1\n",
    "                  step=step+1\n",
    "\n",
    "        step_counts.append(step)\n",
    "    print(step_counts)\n",
    "    step_average=sum(step_counts)/len(step_counts)\n",
    "    return step_average\n",
    "\n",
    "print(cal_avg_step(10,4))"
   ]
  },
  {
   "cell_type": "code",
   "execution_count": 18,
   "id": "78aa3792-aeb9-4858-9f6b-a33e3b42fd77",
   "metadata": {},
   "outputs": [
    {
     "name": "stdout",
     "output_type": "stream",
     "text": [
      "15.9356\n"
     ]
    }
   ],
   "source": [
    "def cal_avg_step(N, start_position):\n",
    "    import random # 提供生成随机数的包\n",
    "    step_counts=[] # 记录每次跌倒时走的步数\n",
    "\n",
    "    for i in range(N):\n",
    "        position= start_position\n",
    "        step=0\n",
    "        while  (position<8 and position>0 ):\n",
    "              x = random.uniform(0,1) # 生成一个用于判断醉汉左走还是右走的随机变量\n",
    "              if (x>0.5):\n",
    "                  position=position+1 # 右走 位置加1\n",
    "                  step=step+1\n",
    "              else:\n",
    "                  position=position-1  # 左走 位置减1\n",
    "                  step=step+1\n",
    "\n",
    "        step_counts.append(step)\n",
    "    step_average=sum(step_counts)/len(step_counts)\n",
    "    return step_average\n",
    "\n",
    "print(cal_avg_step(100000,4))"
   ]
  },
  {
   "cell_type": "markdown",
   "id": "716eabac-4764-4b2a-a5e5-8fa3f26b1823",
   "metadata": {},
   "source": [
    "写一个自己的包:\n",
    "\n",
    "`drunkman.py`\n",
    "\n",
    "```python\n",
    "import random # 提供生成随机数的包\n",
    "\n",
    "def cal_avg_step(N, start_position):\n",
    "\n",
    "    step_counts=[] # 记录每次跌倒时走的步数\n",
    "\n",
    "    for i in range(N):\n",
    "        position= start_position\n",
    "        step=0\n",
    "        while  (position<8 and position>0 ):\n",
    "              x = random.uniform(0,1) # 生成一个用于判断醉汉左走还是右走的随机变量\n",
    "              if (x>0.5):\n",
    "                  position=position+1 # 右走 位置加1\n",
    "                  step=step+1\n",
    "              else:\n",
    "                  position=position-1  # 左走 位置减1\n",
    "                  step=step+1\n",
    "\n",
    "        step_counts.append(step)\n",
    "    step_average=sum(step_counts)/len(step_counts)\n",
    "    return step_average\n",
    "```"
   ]
  },
  {
   "cell_type": "code",
   "execution_count": 20,
   "id": "be2086cb-3dd5-44ef-8ffd-e8ac8c92b3b7",
   "metadata": {},
   "outputs": [
    {
     "name": "stdout",
     "output_type": "stream",
     "text": [
      "15.95366\n"
     ]
    }
   ],
   "source": [
    "from drunkman import cal_avg_step\n",
    "\n",
    "print(cal_avg_step(100000,4))"
   ]
  },
  {
   "cell_type": "code",
   "execution_count": 21,
   "id": "1764c5f9-7f10-41c9-875e-e3c8bc91ecbb",
   "metadata": {},
   "outputs": [
    {
     "name": "stdout",
     "output_type": "stream",
     "text": [
      "16.05656\n"
     ]
    }
   ],
   "source": [
    "import drunkman as dm\n",
    "\n",
    "print(dm.cal_avg_step(100000,4))"
   ]
  },
  {
   "cell_type": "markdown",
   "id": "77d1a5b3-2bcb-4421-a8c1-0f6841339d4c",
   "metadata": {},
   "source": [
    "## 问题2\n",
    "\n",
    "讨论解决问题的方法。\n",
    "\n",
    "1. 确定系统状态与系统状态转移条件。\n",
    "2. 使用面向过程的方式解决\n",
    "\n",
    "引出面向对象的意义和语法。"
   ]
  },
  {
   "cell_type": "markdown",
   "id": "64442391-f284-4b6e-bd02-ba28e1881f55",
   "metadata": {},
   "source": [
    "## 绘图封装举例"
   ]
  },
  {
   "cell_type": "code",
   "execution_count": 25,
   "id": "50e0a94d-f939-420a-b4f8-6013dc569e25",
   "metadata": {},
   "outputs": [
    {
     "data": {
      "image/png": "[encoded data removed]",
      "text/plain": [
       "<Figure size 432x288 with 1 Axes>"
      ]
     },
     "metadata": {
      "needs_background": "light"
     },
     "output_type": "display_data"
    }
   ],
   "source": [
    "import matplotlib.pyplot as plt\n",
    "import numpy as np\n",
    "\n",
    "def fig(x,y):\n",
    "    figure= plt.figure()\n",
    "    ax=figure.add_subplot(111)\n",
    "    \n",
    "    plt.plot(x,y)\n",
    "    plt.show()\n",
    "\n",
    "fig([1,2,3,4],[5,34,67,4])"
   ]
  },
  {
   "cell_type": "markdown",
   "id": "f6bd8440-f93b-4e67-95bc-f9fac3255f4e",
   "metadata": {},
   "source": [
    "接口设计与分工\n",
    "\n",
    "[matplotlib.pyplot常用画图方式函数封装（一）](https://blog.csdn.net/Cyrus_May/article/details/105444167)"
   ]
  },
  {
   "cell_type": "code",
   "execution_count": 29,
   "id": "7829cbbf-6e8b-4f81-9de5-63799aadac50",
   "metadata": {},
   "outputs": [
    {
     "data": {
      "image/png": "[encoded data removed]",
      "text/plain": [
       "<Figure size 432x288 with 1 Axes>"
      ]
     },
     "metadata": {
      "needs_background": "light"
     },
     "output_type": "display_data"
    }
   ],
   "source": [
    "import matplotlib.pyplot as plt\n",
    "import numpy as np\n",
    "\n",
    "def fig(x,y,grid=False):\n",
    "    figure= plt.figure()\n",
    "    ax=figure.add_subplot(111)\n",
    "    \n",
    "    plt.plot(x,y)\n",
    "    if grid:\n",
    "        plt.grid()\n",
    "    plt.show()\n",
    "    \n",
    "\n",
    "fig([1,2,3,4],[5,34,67,4],True)"
   ]
  },
  {
   "cell_type": "code",
   "execution_count": null,
   "id": "df93637a-fbd1-4939-a0df-c0f31ce37749",
   "metadata": {},
   "outputs": [],
   "source": []
  }
 ],
 "metadata": {
  "kernelspec": {
   "display_name": "Python 3 (ipykernel)",
   "language": "python",
   "name": "python3"
  },
  "language_info": {
   "codemirror_mode": {
    "name": "ipython",
    "version": 3
   },
   "file_extension": ".py",
   "mimetype": "text/x-python",
   "name": "python",
   "nbconvert_exporter": "python",
   "pygments_lexer": "ipython3",
   "version": "3.9.12"
  }
 },
 "nbformat": 4,
 "nbformat_minor": 5
}
